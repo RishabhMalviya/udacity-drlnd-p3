{
 "cells": [
  {
   "cell_type": "code",
   "execution_count": 1,
   "id": "0d8976fd",
   "metadata": {},
   "outputs": [],
   "source": [
    "from utils import ScoreKeeper\n",
    "from agent import Agent\n",
    "from main import train_agent, plot_scores, watch_agent"
   ]
  },
  {
   "cell_type": "markdown",
   "id": "ebe3116b",
   "metadata": {},
   "source": [
    "# Train DDPG Agent"
   ]
  },
  {
   "cell_type": "code",
   "execution_count": 2,
   "id": "44313d1a",
   "metadata": {},
   "outputs": [
    {
     "name": "stderr",
     "output_type": "stream",
     "text": [
      "INFO:unityagents:\n",
      "'Academy' started successfully!\n",
      "Unity Academy name: Academy\n",
      "        Number of Brains: 1\n",
      "        Number of External Brains : 1\n",
      "        Lesson number : 0\n",
      "        Reset Parameters :\n",
      "\t\t\n",
      "Unity brain name: TennisBrain\n",
      "        Number of Visual Observations (per agent): 0\n",
      "        Vector Observation space type: continuous\n",
      "        Vector Observation space size (per agent): 8\n",
      "        Number of stacked Vector Observation: 3\n",
      "        Vector Action space type: continuous\n",
      "        Vector Action space size (per agent): 2\n",
      "        Vector Action descriptions: , \n"
     ]
    },
    {
     "name": "stdout",
     "output_type": "stream",
     "text": [
      "Episode 100\tAverage Score (over past 100 episodes): 0.00\n"
     ]
    },
    {
     "ename": "TypeError",
     "evalue": "checkpoint() got an unexpected keyword argument 'checkpoint_actor'",
     "output_type": "error",
     "traceback": [
      "\u001b[0;31m---------------------------------------------------------------------------\u001b[0m",
      "\u001b[0;31mTypeError\u001b[0m                                 Traceback (most recent call last)",
      "\u001b[0;32m<ipython-input-2-dc4c642766d8>\u001b[0m in \u001b[0;36m<module>\u001b[0;34m\u001b[0m\n\u001b[1;32m      1\u001b[0m solved, scores = train_agent(\n\u001b[1;32m      2\u001b[0m     \u001b[0mn_episodes\u001b[0m\u001b[0;34m=\u001b[0m\u001b[0;36m10_000\u001b[0m\u001b[0;34m,\u001b[0m\u001b[0;34m\u001b[0m\u001b[0;34m\u001b[0m\u001b[0m\n\u001b[0;32m----> 3\u001b[0;31m     \u001b[0mcheckpoint_every\u001b[0m\u001b[0;34m=\u001b[0m\u001b[0;36m100\u001b[0m\u001b[0;34m\u001b[0m\u001b[0;34m\u001b[0m\u001b[0m\n\u001b[0m\u001b[1;32m      4\u001b[0m )\n",
      "\u001b[0;32m~/worksPaCe/learNiNG/udacity-drlnd/udacity-drlnd-p3/p3_collab-compet/main.py\u001b[0m in \u001b[0;36mtrain_agent\u001b[0;34m(n_episodes, checkpoint_every, state_size, action_size, num_agents, unity_env_path)\u001b[0m\n\u001b[1;32m     75\u001b[0m         \u001b[0;32mif\u001b[0m \u001b[0mi_episode\u001b[0m \u001b[0;34m%\u001b[0m \u001b[0mCHECKPOINT_EVERY\u001b[0m\u001b[0;34m==\u001b[0m \u001b[0;36m0\u001b[0m\u001b[0;34m:\u001b[0m\u001b[0;34m\u001b[0m\u001b[0;34m\u001b[0m\u001b[0m\n\u001b[1;32m     76\u001b[0m             \u001b[0;32mfor\u001b[0m \u001b[0mi\u001b[0m \u001b[0;32min\u001b[0m \u001b[0mrange\u001b[0m\u001b[0;34m(\u001b[0m\u001b[0mnum_agents\u001b[0m\u001b[0;34m)\u001b[0m\u001b[0;34m:\u001b[0m\u001b[0;34m\u001b[0m\u001b[0;34m\u001b[0m\u001b[0m\n\u001b[0;32m---> 77\u001b[0;31m                 \u001b[0magents\u001b[0m\u001b[0;34m[\u001b[0m\u001b[0mi\u001b[0m\u001b[0;34m]\u001b[0m\u001b[0;34m.\u001b[0m\u001b[0mcheckpoint\u001b[0m\u001b[0;34m(\u001b[0m\u001b[0mi_episode\u001b[0m\u001b[0;34m=\u001b[0m\u001b[0mi_episode\u001b[0m\u001b[0;34m,\u001b[0m \u001b[0mcheckpoint_actor\u001b[0m\u001b[0;34m=\u001b[0m\u001b[0;34mf'trained_actor-{i}.pt'\u001b[0m\u001b[0;34m,\u001b[0m \u001b[0mcheckpoint_critic\u001b[0m\u001b[0;34m=\u001b[0m\u001b[0;34mf'trained_critic-{i}.pt'\u001b[0m\u001b[0;34m)\u001b[0m\u001b[0;34m\u001b[0m\u001b[0;34m\u001b[0m\u001b[0m\n\u001b[0m\u001b[1;32m     78\u001b[0m \u001b[0;34m\u001b[0m\u001b[0m\n\u001b[1;32m     79\u001b[0m     \u001b[0menv\u001b[0m\u001b[0;34m.\u001b[0m\u001b[0mclose\u001b[0m\u001b[0;34m(\u001b[0m\u001b[0;34m)\u001b[0m\u001b[0;34m\u001b[0m\u001b[0;34m\u001b[0m\u001b[0m\n",
      "\u001b[0;31mTypeError\u001b[0m: checkpoint() got an unexpected keyword argument 'checkpoint_actor'"
     ]
    }
   ],
   "source": [
    "solved, scores = train_agent(\n",
    "    n_episodes=10_000,\n",
    "    checkpoint_every=100\n",
    ")"
   ]
  },
  {
   "cell_type": "markdown",
   "id": "859dff3d",
   "metadata": {},
   "source": [
    "## Plot Scores"
   ]
  },
  {
   "cell_type": "code",
   "execution_count": null,
   "id": "9822b938",
   "metadata": {},
   "outputs": [],
   "source": [
    "plot_scores(scores)"
   ]
  },
  {
   "cell_type": "markdown",
   "id": "7e73f9b1",
   "metadata": {},
   "source": [
    "# Watch Trained Agent"
   ]
  },
  {
   "cell_type": "code",
   "execution_count": null,
   "id": "bfd83d9b",
   "metadata": {},
   "outputs": [],
   "source": [
    "if solved:\n",
    "    watch_agent(\n",
    "        n_episodes=5\n",
    "    )"
   ]
  },
  {
   "cell_type": "code",
   "execution_count": null,
   "id": "7164c37c",
   "metadata": {},
   "outputs": [],
   "source": []
  },
  {
   "cell_type": "code",
   "execution_count": null,
   "id": "cadc6486",
   "metadata": {},
   "outputs": [],
   "source": []
  },
  {
   "cell_type": "code",
   "execution_count": null,
   "id": "99359a6a",
   "metadata": {},
   "outputs": [],
   "source": []
  }
 ],
 "metadata": {
  "kernelspec": {
   "display_name": "drlnd",
   "language": "python",
   "name": "drlnd"
  },
  "language_info": {
   "codemirror_mode": {
    "name": "ipython",
    "version": 3
   },
   "file_extension": ".py",
   "mimetype": "text/x-python",
   "name": "python",
   "nbconvert_exporter": "python",
   "pygments_lexer": "ipython3",
   "version": "3.6.13"
  }
 },
 "nbformat": 4,
 "nbformat_minor": 5
}
