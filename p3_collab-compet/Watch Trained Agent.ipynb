{
 "cells": [
  {
   "cell_type": "code",
   "execution_count": 1,
   "id": "8ca91800",
   "metadata": {},
   "outputs": [],
   "source": [
    "from main import watch_agent"
   ]
  },
  {
   "cell_type": "markdown",
   "id": "4b8f0db0",
   "metadata": {},
   "source": [
    "watch_agent(\n",
    "    max_t=250,\n",
    "    n_episodes=5\n",
    ")"
   ]
  }
 ],
 "metadata": {
  "kernelspec": {
   "display_name": "drlnd",
   "language": "python",
   "name": "drlnd"
  },
  "language_info": {
   "codemirror_mode": {
    "name": "ipython",
    "version": 3
   },
   "file_extension": ".py",
   "mimetype": "text/x-python",
   "name": "python",
   "nbconvert_exporter": "python",
   "pygments_lexer": "ipython3",
   "version": "3.6.13"
  }
 },
 "nbformat": 4,
 "nbformat_minor": 5
}
